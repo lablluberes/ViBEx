{
 "cells": [
  {
   "cell_type": "code",
   "execution_count": 1,
   "id": "53a13492-abd1-4394-bc09-29d3bc8378f5",
   "metadata": {},
   "outputs": [],
   "source": [
    "import pandas as pd\n",
    "import numpy as np"
   ]
  },
  {
   "cell_type": "code",
   "execution_count": 19,
   "id": "98882192-00b7-4c2a-9ebb-3d80f3555edc",
   "metadata": {},
   "outputs": [],
   "source": [
    "a, b = 0, 10\n",
    "\n",
    "for i in [10]:\n",
    "\n",
    "    for j in [50, 100, 150]:\n",
    "\n",
    "        random_matrix = (b - a) * np.random.rand(i, j) + a\n",
    "\n",
    "        random_matrix = [ [f\"gene{i+1}\"] + list(random_matrix[i]) for i in range(len(random_matrix))]\n",
    "\n",
    "        #print(random_matrix)\n",
    "\n",
    "        df = pd.DataFrame(random_matrix)\n",
    "\n",
    "        df.to_csv(f\"data_genes{i}_points{j}.csv\", index=False, header=False)"
   ]
  },
  {
   "cell_type": "code",
   "execution_count": null,
   "id": "e57b4378-4beb-48a7-95a7-841b9d5b1a38",
   "metadata": {},
   "outputs": [],
   "source": []
  }
 ],
 "metadata": {
  "kernelspec": {
   "display_name": "Python 3 (ipykernel)",
   "language": "python",
   "name": "python3"
  },
  "language_info": {
   "codemirror_mode": {
    "name": "ipython",
    "version": 3
   },
   "file_extension": ".py",
   "mimetype": "text/x-python",
   "name": "python",
   "nbconvert_exporter": "python",
   "pygments_lexer": "ipython3",
   "version": "3.13.3"
  }
 },
 "nbformat": 4,
 "nbformat_minor": 5
}
